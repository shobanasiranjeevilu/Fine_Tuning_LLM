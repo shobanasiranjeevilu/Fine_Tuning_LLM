{
 "cells": [
  {
   "cell_type": "markdown",
   "metadata": {},
   "source": [
    "### Syntax for creating valid data for fine-tuning as mentioned in https://platform.openai.com/docs/guides/fine-tuning/preparing-your-dataset\n",
    "\n",
    "        {\"messages\": [{\"role\": \"system\", \"content\": \"Marv is a factual chatbot that is also sarcastic.\"}, {\"role\": \"user\", \"content\": \"What's the capital of France?\"}, {\"role\": \"assistant\", \"content\": \"Paris, as if everyone doesn't know that already.\"}]}\n"
   ]
  },
  {
   "cell_type": "code",
   "execution_count": 51,
   "metadata": {},
   "outputs": [
    {
     "name": "stdout",
     "output_type": "stream",
     "text": [
      "\u001b[33mWARNING: You are using pip version 21.2.4; however, version 23.3.1 is available.\n",
      "You should consider upgrading via the '/Library/Developer/CommandLineTools/usr/bin/python3 -m pip install --upgrade pip' command.\u001b[0m\n"
     ]
    }
   ],
   "source": [
    "!pip3 install -q openai==0.28"
   ]
  },
  {
   "cell_type": "code",
   "execution_count": null,
   "metadata": {},
   "outputs": [],
   "source": [
    "import json\n",
    "import tiktoken # for token counting\n",
    "import numpy as np\n",
    "from collections import defaultdict\n",
    "import os\n",
    "import pandas as pd\n",
    "import json\n",
    "import openai\n",
    "\n",
    "from langchain.chat_models import ChatOpenAI\n",
    "from langchain.schema import HumanMessage, SystemMessage\n",
    "from langchain.prompts import (\n",
    "    ChatPromptTemplate,\n",
    "    FewShotChatMessagePromptTemplate,\n",
    ")\n",
    "from langchain.embeddings import OpenAIEmbeddings\n",
    "from langchain.prompts import SemanticSimilarityExampleSelector\n",
    "from langchain.vectorstores import Chroma\n",
    "\n",
    "from utils import read_notebook, extract_cells, format_for_gpt"
   ]
  },
  {
   "cell_type": "markdown",
   "metadata": {},
   "source": [
    "## Creating the data"
   ]
  },
  {
   "cell_type": "code",
   "execution_count": null,
   "metadata": {},
   "outputs": [],
   "source": [
    "## Assumes: Filename of jupyter notebook is the id column in grading csv sheet\n",
    "def create_training_data(folder_path,file_names,df,content):\n",
    "    code_dict = {}\n",
    "    for file in file_names:\n",
    "        key = file[:-6]\n",
    "        full_path = os.path.join(folder_path, file)\n",
    "\n",
    "        notebook = read_notebook(full_path)\n",
    "        extracted_cells = extract_cells(notebook)\n",
    "        formatted_data = format_for_gpt(extracted_cells)\n",
    "\n",
    "\n",
    "        code_dict[key] = [{\"role\": \"system\", \"content\":content }]\n",
    "        data = df[df['Username'] == key].reset_index(drop=True)\n",
    "        grade = data['grade'].iloc[0] if not data['grade'].empty else None\n",
    "        feedback = data['Feedback to Learner'].iloc[0] if not data['Feedback to Learner'].empty else None\n",
    "        code_dict[key].append({\"role\":\"user\",\"content\": formatted_data})\n",
    "        code_dict[key].append({\"role\": \"assistant\", \"content\": '{{\"Grade\": {}, \"Feedback\": {}}}'.format(str(grade), feedback)})\n",
    "\n",
    "\n",
    "    return code_dict\n"
   ]
  },
  {
   "cell_type": "code",
   "execution_count": null,
   "metadata": {},
   "outputs": [],
   "source": [
    "\n",
    "folder_path = \"path to your already graded assignment samples\"\n",
    "file_names,files = [],[]\n",
    "for file in os.listdir(folder_path):\n",
    "    full_path = os.path.join(folder_path, file)\n",
    "    if os.path.isfile(full_path) and file.endswith('.ipynb') and not file.startswith('.'):\n",
    "        file_names.append(file)\n",
    "        \n",
    "grading_sheet = \"path to your grading sheet \"\n",
    "\n",
    "human_grades_and_feedback_df = pd.read_csv(grading_sheet)"
   ]
  },
  {
   "cell_type": "code",
   "execution_count": null,
   "metadata": {},
   "outputs": [],
   "source": [
    "Instruction = \"parse rubic or instruction for the assognment in strings\"\n",
    "\n",
    "system_role = \"You are a helpful assistant that evaluate programming assignments and check all the instructions are \\\n",
    "followed and grade it from 0-100 and provide Feedback what went wrong.Provide Reasoning on why you gave such grade.\" +  \\\n",
    "Instruction\n",
    "\n",
    "data = create_training_data(folder_path,file_names,human_grades_and_feedback_df,system_role)"
   ]
  },
  {
   "cell_type": "code",
   "execution_count": null,
   "metadata": {},
   "outputs": [],
   "source": [
    "training_data = list(data.values())"
   ]
  },
  {
   "cell_type": "code",
   "execution_count": null,
   "metadata": {},
   "outputs": [],
   "source": [
    "original_json = json.dumps(training_data, separators=(',', ':'))\n",
    "jsonData = json.loads(original_json)\n",
    "transformed_json = [{\"messages\": lst} for lst in jsonData]"
   ]
  },
  {
   "cell_type": "code",
   "execution_count": null,
   "metadata": {},
   "outputs": [],
   "source": [
    "# writting training data as .jsonl format\n",
    "with open('training_data.jsonl', 'w') as file:\n",
    "    for entry in transformed_json:\n",
    "        json_line = json.dumps(entry)  # Converting dictionary to JSON string\n",
    "        file.write(json_line + '\\n')   # Writing JSON string to file with newline"
   ]
  },
  {
   "cell_type": "markdown",
   "metadata": {},
   "source": [
    "## Validating the data "
   ]
  },
  {
   "cell_type": "code",
   "execution_count": 2,
   "metadata": {},
   "outputs": [
    {
     "name": "stdout",
     "output_type": "stream",
     "text": [
      "Num examples: 45\n",
      "First example:\n",
      "{'role': 'system', 'content': 'You are a helpful assistant that evaluate programming assignments and check all the instructions are followed and grade it from 0-100 and provide Feedback what went wrong.Provide Reasoning on why you gave such grade.Write three Python scripts using mrjob that tell me:Average number of words in each review (define “words” however you like but be explicit about it) Count of reviews by year-month (eg “2021-09”) Average rating of any review marked ”cool” (eg where cool != 0)}'}\n",
      "{'role': 'user', 'content': '{\"cells\":[{\"type\":\"code\",\"content\":\"import pandas as pd\\\\ninfo = pd.read_csv(\\'yelp.csv\\')\\\\ninfo\"},{\"type\":\"code\",\"content\":\"info[\\\\\"Number of Words\\\\\"] = info[\\\\\"text\\\\\"].apply(lambda n: len(n.split()))\\\\n(info.head())\"},{\"type\":\"code\",\"content\":\"info1=info[\\'Number of Words\\'].mean()\\\\nprint(info1)\"},{\"type\":\"markdown\",\"content\":\"Average number of words in each review (define \\\\u201cwords\\\\u201d however you like but be explicit about it)\\\\n\"},{\"type\":\"code\",\"content\":\"!pip install mrjob\"},{\"type\":\"code\",\"content\":\"%%file wc.py\\\\nfrom mrjob.job import MRJob\\\\nimport re\\\\nimport csv\\\\n\\\\nclass AverageWords(MRJob):\\\\n\\\\n    def mapper(self, _, line):\\\\n        #columns = line.split()\\\\n        row = next(csv.reader([line]))\\\\n        if(len(row)==10):\\\\n            column_name = row[4]\\\\n            num_words = len(column_name)\\\\n        yield (None, 1)\\\\n\\\\n    def reducer(self, key, values):\\\\n        total_words = 0\\\\n        total_rows = 0\\\\n        for value in values:\\\\n            total_words += value\\\\n            total_rows += 1\\\\n        average_words = total_words / total_rows\\\\n        yield (key, values)\\\\n\\\\nif __name__ == \\'__main__\\':\\\\n    AverageWords.run()\\\\n\"},{\"type\":\"code\",\"content\":\"from wc import AverageWords\\\\n\\\\nmr_job = AverageWords(args=[\\'yelp.csv\\'])  # Replace \\'your_input.csv\\' with your CSV file path\\\\nwith mr_job.make_runner() as runner:\\\\n    runner.run()\\\\n    for key, value in mr_job.parse_output(runner.cat_output()):\\\\n        print(key,value)\"},{\"type\":\"markdown\",\"content\":\"Average rating of any review marked \\\\u201dcool\\\\u201d (eg where cool != 0)\\\\n\"},{\"type\":\"code\",\"content\":\"data2=data[\\'cool\\'].mean()\"},{\"type\":\"code\",\"content\":\"data2\"},{\"type\":\"code\",\"content\":\"%%file count_by_year_month.py\\\\nfrom mrjob.job import MRJob\\\\nimport csv\\\\nfrom datetime import datetime\\\\n\\\\nclass CountByYearMonth(MRJob):\\\\n\\\\n    def mapper(self, _, line):\\\\n        # Parse the CSV line\\\\n        r = next(csv.reader([line]))\\\\n        \\\\n        if len(r) == 10:  # Assuming there are 10 columns in your CSV file\\\\n            date_str = r[1]\\\\n            \\\\n            try:\\\\n                # Parse the date and extract the year and month\\\\n                date = datetime.strptime(date_str, \\'%Y-%m-%d\\')\\\\n                year_month = date.strftime(\\'%Y-%m\\')\\\\n                \\\\n                # Emit the year-month as the key and 1 as the count\\\\n                yield year_month, 1\\\\n            except ValueError:\\\\n                pass  # Ignore invalid dates\\\\n\\\\n    def reducer(self, year_month, counts):\\\\n        total_reviews = sum(counts)\\\\n        yield year_month, total_reviews\\\\n\\\\nif __name__ == \\'__main__\\':\\\\n    CountByYearMonth.run()\"},{\"type\":\"code\",\"content\":\"from count_by_year_month import CountByYearMonth\\\\n\\\\nmr_job = CountByYearMonth(args=[\\'yelp.csv\\'])  # Replace \\'your_input.csv\\' with your CSV file path\\\\nwith mr_job.make_runner() as runner:\\\\n    runner.run()\\\\n    for key, value in mr_job.parse_output(runner.cat_output()):\\\\n        print(key,value)\"}]}'}\n",
      "{'role': 'assistant', 'content': '{\"Grade\": 70.0, \"Feedback\": Question 1 is not executable, Question 3 is wrong}'}\n"
     ]
    }
   ],
   "source": [
    "data_path = \"training_data.jsonl\"\n",
    "\n",
    "# Load the dataset\n",
    "with open(data_path, 'r', encoding='utf-8') as f:\n",
    "    dataset = [json.loads(line) for line in f]\n",
    "\n",
    "# Initial dataset stats\n",
    "print(\"Num examples:\", len(dataset))\n",
    "print(\"First example:\")\n",
    "for message in dataset[0][\"messages\"]:\n",
    "    print(message)"
   ]
  },
  {
   "cell_type": "code",
   "execution_count": 3,
   "metadata": {},
   "outputs": [
    {
     "name": "stdout",
     "output_type": "stream",
     "text": [
      "No errors found\n"
     ]
    }
   ],
   "source": [
    "# Format error checks\n",
    "format_errors = defaultdict(int)\n",
    "\n",
    "for ex in dataset:\n",
    "    if not isinstance(ex, dict):\n",
    "        format_errors[\"data_type\"] += 1\n",
    "        continue\n",
    "        \n",
    "    messages = ex.get(\"messages\", None)\n",
    "    \n",
    "    if not messages:\n",
    "        format_errors[\"missing_messages_list\"] += 1\n",
    "        continue\n",
    "        \n",
    "    for message in messages:\n",
    "        if \"role\" not in message or \"content\" not in message:\n",
    "            format_errors[\"message_missing_key\"] += 1\n",
    "        \n",
    "        if any(k not in (\"role\", \"content\", \"name\", \"function_call\") for k in message):\n",
    "            format_errors[\"message_unrecognized_key\"] += 1\n",
    "        \n",
    "        if message.get(\"role\", None) not in (\"system\", \"user\", \"assistant\", \"function\"):\n",
    "            format_errors[\"unrecognized_role\"] += 1\n",
    "        \n",
    "        content = message.get(\"content\", None)\n",
    "        \n",
    "        function_call = message.get(\"function_call\", None)\n",
    "        \n",
    "        if (not content and not function_call) or not isinstance(content, str):\n",
    "            format_errors[\"missing_content\"] += 1\n",
    "    \n",
    "    if not any(message.get(\"role\", None) == \"assistant\" for message in messages):\n",
    "        format_errors[\"example_missing_assistant_message\"] += 1\n",
    "\n",
    "if format_errors:\n",
    "    print(\"Found errors:\")\n",
    "    for k, v in format_errors.items():\n",
    "        print(f\"{k}: {v}\")\n",
    "else:\n",
    "    print(\"No errors found\")"
   ]
  },
  {
   "cell_type": "code",
   "execution_count": 4,
   "metadata": {},
   "outputs": [],
   "source": [
    "encoding = tiktoken.get_encoding(\"cl100k_base\")\n",
    "\n",
    "# not exact!\n",
    "# simplified from https://github.com/openai/openai-cookbook/blob/main/examples/How_to_count_tokens_with_tiktoken.ipynb\n",
    "def num_tokens_from_messages(messages, tokens_per_message=3, tokens_per_name=1):\n",
    "    num_tokens = 0\n",
    "    for message in messages:\n",
    "        num_tokens += tokens_per_message\n",
    "        for key, value in message.items():\n",
    "            num_tokens += len(encoding.encode(value))\n",
    "            if key == \"name\":\n",
    "                num_tokens += tokens_per_name\n",
    "    num_tokens += 3\n",
    "    return num_tokens\n",
    "\n",
    "def num_assistant_tokens_from_messages(messages):\n",
    "    num_tokens = 0\n",
    "    for message in messages:\n",
    "        if message[\"role\"] == \"assistant\":\n",
    "            num_tokens += len(encoding.encode(message[\"content\"]))\n",
    "    return num_tokens\n",
    "\n",
    "def print_distribution(values, name):\n",
    "    print(f\"\\n#### Distribution of {name}:\")\n",
    "    print(f\"min / max: {min(values)}, {max(values)}\")\n",
    "    print(f\"mean / median: {np.mean(values)}, {np.median(values)}\")\n",
    "    print(f\"p5 / p95: {np.quantile(values, 0.1)}, {np.quantile(values, 0.9)}\")"
   ]
  },
  {
   "cell_type": "code",
   "execution_count": 7,
   "metadata": {},
   "outputs": [
    {
     "name": "stdout",
     "output_type": "stream",
     "text": [
      "Num examples missing system message: 0\n",
      "Num examples missing user message: 0\n",
      "\n",
      "#### Distribution of num_messages_per_example:\n",
      "min / max: 3, 3\n",
      "mean / median: 3.0, 3.0\n",
      "p5 / p95: 3.0, 3.0\n",
      "\n",
      "#### Distribution of num_total_tokens_per_example:\n",
      "min / max: 370, 2011\n",
      "mean / median: 803.5777777777778, 804.0\n",
      "p5 / p95: 402.6, 1258.4\n",
      "\n",
      "#### Distribution of num_assistant_tokens_per_example:\n",
      "min / max: 10, 50\n",
      "mean / median: 20.0, 14.0\n",
      "p5 / p95: 12.0, 37.0\n",
      "\n",
      "0 examples may be over the 4096 token limit, they will be truncated during fine-tuning\n"
     ]
    }
   ],
   "source": [
    "# Warnings and tokens counts\n",
    "n_missing_system = 0\n",
    "n_missing_user = 0\n",
    "n_messages = []\n",
    "convo_lens = []\n",
    "assistant_message_lens = []\n",
    "\n",
    "for ex in dataset:\n",
    "    messages = ex[\"messages\"]\n",
    "    if not any(message[\"role\"] == \"system\" for message in messages):\n",
    "        n_missing_system += 1\n",
    "    if not any(message[\"role\"] == \"user\" for message in messages):\n",
    "        n_missing_user += 1\n",
    "    n_messages.append(len(messages))\n",
    "    convo_lens.append(num_tokens_from_messages(messages))\n",
    "    assistant_message_lens.append(num_assistant_tokens_from_messages(messages))\n",
    "    \n",
    "\n",
    "print(\"Num examples missing system message:\", n_missing_system)\n",
    "print(\"Num examples missing user message:\", n_missing_user)\n",
    "print_distribution(n_messages, \"num_messages_per_example\")\n",
    "print_distribution(convo_lens, \"num_total_tokens_per_example\")\n",
    "print_distribution(assistant_message_lens, \"num_assistant_tokens_per_example\")\n",
    "n_too_long = sum(l > 4096 for l in convo_lens)\n",
    "print(f\"\\n{n_too_long} examples may be over the 4096 token limit, they will be truncated during fine-tuning\")"
   ]
  },
  {
   "cell_type": "code",
   "execution_count": 41,
   "metadata": {},
   "outputs": [
    {
     "name": "stdout",
     "output_type": "stream",
     "text": [
      "Dataset has ~36161 tokens that will be charged for during training\n",
      "By default, you'll train for 3 epochs on this dataset\n",
      "By default, you'll be charged for ~108483 tokens\n"
     ]
    }
   ],
   "source": [
    "# Pricing and default n_epochs estimate\n",
    "MAX_TOKENS_PER_EXAMPLE = 4096\n",
    "\n",
    "TARGET_EPOCHS = 3\n",
    "MIN_TARGET_EXAMPLES = 100\n",
    "MAX_TARGET_EXAMPLES = 25000\n",
    "MIN_DEFAULT_EPOCHS = 1\n",
    "MAX_DEFAULT_EPOCHS = 25\n",
    "\n",
    "n_epochs = TARGET_EPOCHS\n",
    "n_train_examples = len(dataset)\n",
    "if n_train_examples * TARGET_EPOCHS < MIN_TARGET_EXAMPLES:\n",
    "    n_epochs = min(MAX_DEFAULT_EPOCHS, MIN_TARGET_EXAMPLES // n_train_examples)\n",
    "elif n_train_examples * TARGET_EPOCHS > MAX_TARGET_EXAMPLES:\n",
    "    n_epochs = max(MIN_DEFAULT_EPOCHS, MAX_TARGET_EXAMPLES // n_train_examples)\n",
    "\n",
    "n_billing_tokens_in_dataset = sum(min(MAX_TOKENS_PER_EXAMPLE, length) for length in convo_lens)\n",
    "print(f\"Dataset has ~{n_billing_tokens_in_dataset} tokens that will be charged for during training\")\n",
    "print(f\"By default, you'll train for {n_epochs} epochs on this dataset\")\n",
    "print(f\"By default, you'll be charged for ~{n_epochs * n_billing_tokens_in_dataset} tokens\")"
   ]
  },
  {
   "cell_type": "markdown",
   "metadata": {},
   "source": [
    "## Creating fine-tuning job on gpt-3.5-turbo model"
   ]
  },
  {
   "cell_type": "code",
   "execution_count": 13,
   "metadata": {},
   "outputs": [],
   "source": [
    "api_key = \"\"\n",
    "\n",
    "openai.api_key = api_key"
   ]
  },
  {
   "cell_type": "code",
   "execution_count": null,
   "metadata": {},
   "outputs": [],
   "source": [
    "\n",
    "with open(\"training_data.jsonl\", \"rb\") as file:\n",
    "    response = openai.File.create(\n",
    "        file=file,\n",
    "        purpose='fine-tune'\n",
    "    )\n",
    "\n",
    "file_id = response['id']\n",
    "print(f\"File uploaded successfully with ID: {file_id}\")\n"
   ]
  },
  {
   "cell_type": "code",
   "execution_count": null,
   "metadata": {},
   "outputs": [],
   "source": [
    "job_id = openai.FineTuningJob.create(\n",
    "  training_file=file_id, \n",
    "  model=\"gpt-3.5-turbo\"\n",
    ")\n",
    "\n",
    "print(job_id['id'])"
   ]
  },
  {
   "cell_type": "code",
   "execution_count": 15,
   "metadata": {},
   "outputs": [],
   "source": [
    "list = openai.FineTuningJob.list()"
   ]
  },
  {
   "cell_type": "code",
   "execution_count": null,
   "metadata": {},
   "outputs": [],
   "source": [
    "print(\"Fine tuning completed with id:\",list['data'][0]['fine_tuned_model'])"
   ]
  },
  {
   "cell_type": "code",
   "execution_count": null,
   "metadata": {},
   "outputs": [],
   "source": []
  }
 ],
 "metadata": {
  "kernelspec": {
   "display_name": "Python 3",
   "language": "python",
   "name": "python3"
  },
  "language_info": {
   "codemirror_mode": {
    "name": "ipython",
    "version": 3
   },
   "file_extension": ".py",
   "mimetype": "text/x-python",
   "name": "python",
   "nbconvert_exporter": "python",
   "pygments_lexer": "ipython3",
   "version": "3.7.9"
  }
 },
 "nbformat": 4,
 "nbformat_minor": 2
}
